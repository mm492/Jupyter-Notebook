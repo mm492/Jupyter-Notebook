{
  "metadata": {
    "toc-autonumbering": false,
    "toc-showmarkdowntxt": true,
    "toc-showcode": true,
    "language_info": {
      "name": ""
    },
    "kernelspec": {
      "name": ""
    }
  },
  "nbformat_minor": 4,
  "nbformat": 4,
  "cells": [
    {
      "cell_type": "markdown",
      "source": "\"My Jupyter Notebook on IBM Watson Studio\"",
      "metadata": {}
    },
    {
      "cell_type": "markdown",
      "source": "Mahdieh Shojaei\nResearcher",
      "metadata": {}
    },
    {
      "cell_type": "markdown",
      "source": "According to my field of study, I am very interested in researching and using the information of other scientific articles to find solutions for the daily problems of patients and their families.",
      "metadata": {}
    },
    {
      "cell_type": "markdown",
      "source": "In the code below, we will see the sum of the two numbers 44+66",
      "metadata": {}
    },
    {
      "cell_type": "code",
      "source": "[44+66]",
      "metadata": {
        "tags": [],
        "trusted": true
      },
      "execution_count": null,
      "outputs": []
    },
    {
      "cell_type": "markdown",
      "source": "•\t33\n•\t44\n•\t55\n•\t66\n\nRow\tIssue\tNumber\n1\tIce cream\t12\n2\tFruit yogurt\t8\n\nwww.goole.com\n",
      "metadata": {}
    }
  ]
}